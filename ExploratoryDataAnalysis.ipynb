{
 "cells": [
  {
   "cell_type": "markdown",
   "metadata": {
    "collapsed": true
   },
   "source": [
    "# Power Laws: Detecting Anomalies in Usage\n",
    "Energy consumption of buildings has steadily increased. There is an increasing realization that many buildings do not perform as intended by their designers. Typical buildings consume 20% more energy than necessary due to faulty construction, malfunctioning equipment, incorrectly configured control systems and inappropriate operating procedures.\n",
    "\n",
    "The building systems may fail to meet the performance expectations due to various faults. Poorly maintained, degraded, and improperly controlled equipment wastes an estimated 15% to 30% of energy used in commercial buildings.\n",
    "\n",
    "Therefore, it is of great potential to develop automatic, quick-responding, accurate and reliable fault detection and to provide diagnosis schemes to ensure the optimal operations of systems to save energy.\n",
    "\n",
    "Schneider Electric already has relevant offers, but would like to determine if alternative techniques can add new detections / functionalities, bring gain in precision, or operate with less data."
   ]
  },
  {
   "cell_type": "markdown",
   "metadata": {},
   "source": [
    "https://search.library.northwestern.edu/primo-explore/fulldisplay?docid=01NWU_HATHI_TRUSTMIU01-100664356&context=L&vid=NULVNEW&search_scope=NWU&tab=default_tab&lang=en_US"
   ]
  },
  {
   "cell_type": "code",
   "execution_count": 1,
   "metadata": {},
   "outputs": [
    {
     "name": "stderr",
     "output_type": "stream",
     "text": [
      "D:\\Users\\Luis\\Programs\\Anaconda3\\envs\\PREDICT-env\\lib\\site-packages\\statsmodels\\compat\\pandas.py:56: FutureWarning: The pandas.core.datetools module is deprecated and will be removed in a future version. Please use the pandas.tseries module instead.\n",
      "  from pandas.core import datetools\n"
     ]
    }
   ],
   "source": [
    "import pandas as pd\n",
    "import numpy as np\n",
    "import seaborn as sns\n",
    "import power_utils\n",
    "\n",
    "%matplotlib inline"
   ]
  },
  {
   "cell_type": "code",
   "execution_count": 2,
   "metadata": {},
   "outputs": [
    {
     "name": "stderr",
     "output_type": "stream",
     "text": [
      "D:\\Users\\Luis\\Programs\\Anaconda3\\envs\\PREDICT-env\\lib\\site-packages\\numpy\\lib\\arraysetops.py:395: FutureWarning: elementwise comparison failed; returning scalar instead, but in the future will perform elementwise comparison\n",
      "  mask |= (ar1 == a)\n"
     ]
    }
   ],
   "source": [
    "train = power_utils.import_data()"
   ]
  },
  {
   "cell_type": "code",
   "execution_count": 3,
   "metadata": {},
   "outputs": [
    {
     "data": {
      "text/html": [
       "<div>\n",
       "<style scoped>\n",
       "    .dataframe tbody tr th:only-of-type {\n",
       "        vertical-align: middle;\n",
       "    }\n",
       "\n",
       "    .dataframe tbody tr th {\n",
       "        vertical-align: top;\n",
       "    }\n",
       "\n",
       "    .dataframe thead th {\n",
       "        text-align: right;\n",
       "    }\n",
       "</style>\n",
       "<table border=\"1\" class=\"dataframe\">\n",
       "  <thead>\n",
       "    <tr style=\"text-align: right;\">\n",
       "      <th></th>\n",
       "      <th>meter_id</th>\n",
       "      <th>Timestamp</th>\n",
       "      <th>Values</th>\n",
       "      <th>Date</th>\n",
       "      <th>site_id</th>\n",
       "      <th>meter_description</th>\n",
       "      <th>units</th>\n",
       "      <th>surface</th>\n",
       "      <th>activity</th>\n",
       "      <th>Holiday</th>\n",
       "      <th>Temperature</th>\n",
       "      <th>Distance</th>\n",
       "    </tr>\n",
       "  </thead>\n",
       "  <tbody>\n",
       "    <tr>\n",
       "      <th>0</th>\n",
       "      <td>2</td>\n",
       "      <td>2015-06-11 00:00:00</td>\n",
       "      <td>2035.0</td>\n",
       "      <td>2015-06-11</td>\n",
       "      <td>334_61</td>\n",
       "      <td>main meter</td>\n",
       "      <td>Wh</td>\n",
       "      <td>2000.0</td>\n",
       "      <td>office</td>\n",
       "      <td>-1</td>\n",
       "      <td>19.4</td>\n",
       "      <td>19.734144</td>\n",
       "    </tr>\n",
       "    <tr>\n",
       "      <th>1</th>\n",
       "      <td>2</td>\n",
       "      <td>2015-06-11 00:00:00</td>\n",
       "      <td>2035.0</td>\n",
       "      <td>2015-06-11</td>\n",
       "      <td>334_61</td>\n",
       "      <td>main meter</td>\n",
       "      <td>Wh</td>\n",
       "      <td>2000.0</td>\n",
       "      <td>office</td>\n",
       "      <td>-1</td>\n",
       "      <td>19.5</td>\n",
       "      <td>17.135873</td>\n",
       "    </tr>\n",
       "    <tr>\n",
       "      <th>2</th>\n",
       "      <td>2</td>\n",
       "      <td>2015-06-11 00:00:00</td>\n",
       "      <td>2035.0</td>\n",
       "      <td>2015-06-11</td>\n",
       "      <td>334_61</td>\n",
       "      <td>main meter</td>\n",
       "      <td>Wh</td>\n",
       "      <td>2000.0</td>\n",
       "      <td>office</td>\n",
       "      <td>-1</td>\n",
       "      <td>21.2</td>\n",
       "      <td>12.083004</td>\n",
       "    </tr>\n",
       "    <tr>\n",
       "      <th>3</th>\n",
       "      <td>2</td>\n",
       "      <td>2015-06-11 00:15:00</td>\n",
       "      <td>2074.0</td>\n",
       "      <td>2015-06-11</td>\n",
       "      <td>334_61</td>\n",
       "      <td>main meter</td>\n",
       "      <td>Wh</td>\n",
       "      <td>2000.0</td>\n",
       "      <td>office</td>\n",
       "      <td>-1</td>\n",
       "      <td>-1.0</td>\n",
       "      <td>-1.000000</td>\n",
       "    </tr>\n",
       "    <tr>\n",
       "      <th>4</th>\n",
       "      <td>2</td>\n",
       "      <td>2015-06-11 00:30:00</td>\n",
       "      <td>2062.0</td>\n",
       "      <td>2015-06-11</td>\n",
       "      <td>334_61</td>\n",
       "      <td>main meter</td>\n",
       "      <td>Wh</td>\n",
       "      <td>2000.0</td>\n",
       "      <td>office</td>\n",
       "      <td>-1</td>\n",
       "      <td>-1.0</td>\n",
       "      <td>-1.000000</td>\n",
       "    </tr>\n",
       "  </tbody>\n",
       "</table>\n",
       "</div>"
      ],
      "text/plain": [
       "  meter_id           Timestamp  Values        Date site_id meter_description  \\\n",
       "0        2 2015-06-11 00:00:00  2035.0  2015-06-11  334_61        main meter   \n",
       "1        2 2015-06-11 00:00:00  2035.0  2015-06-11  334_61        main meter   \n",
       "2        2 2015-06-11 00:00:00  2035.0  2015-06-11  334_61        main meter   \n",
       "3        2 2015-06-11 00:15:00  2074.0  2015-06-11  334_61        main meter   \n",
       "4        2 2015-06-11 00:30:00  2062.0  2015-06-11  334_61        main meter   \n",
       "\n",
       "  units  surface activity Holiday  Temperature   Distance  \n",
       "0    Wh   2000.0   office      -1         19.4  19.734144  \n",
       "1    Wh   2000.0   office      -1         19.5  17.135873  \n",
       "2    Wh   2000.0   office      -1         21.2  12.083004  \n",
       "3    Wh   2000.0   office      -1         -1.0  -1.000000  \n",
       "4    Wh   2000.0   office      -1         -1.0  -1.000000  "
      ]
     },
     "execution_count": 3,
     "metadata": {},
     "output_type": "execute_result"
    }
   ],
   "source": [
    "train.head()"
   ]
  },
  {
   "cell_type": "code",
   "execution_count": 4,
   "metadata": {},
   "outputs": [
    {
     "data": {
      "text/plain": [
       "meter_id                     object\n",
       "Timestamp            datetime64[ns]\n",
       "Values                      float64\n",
       "Date                         object\n",
       "site_id                      object\n",
       "meter_description            object\n",
       "units                        object\n",
       "surface                     float64\n",
       "activity                     object\n",
       "Holiday                      object\n",
       "Temperature                 float64\n",
       "Distance                    float64\n",
       "dtype: object"
      ]
     },
     "execution_count": 4,
     "metadata": {},
     "output_type": "execute_result"
    }
   ],
   "source": [
    "train.dtypes"
   ]
  },
  {
   "cell_type": "code",
   "execution_count": 5,
   "metadata": {},
   "outputs": [
    {
     "data": {
      "text/html": [
       "<div>\n",
       "<style scoped>\n",
       "    .dataframe tbody tr th:only-of-type {\n",
       "        vertical-align: middle;\n",
       "    }\n",
       "\n",
       "    .dataframe tbody tr th {\n",
       "        vertical-align: top;\n",
       "    }\n",
       "\n",
       "    .dataframe thead th {\n",
       "        text-align: right;\n",
       "    }\n",
       "</style>\n",
       "<table border=\"1\" class=\"dataframe\">\n",
       "  <thead>\n",
       "    <tr style=\"text-align: right;\">\n",
       "      <th></th>\n",
       "      <th>Values</th>\n",
       "      <th>surface</th>\n",
       "      <th>Temperature</th>\n",
       "      <th>Distance</th>\n",
       "    </tr>\n",
       "  </thead>\n",
       "  <tbody>\n",
       "    <tr>\n",
       "      <th>count</th>\n",
       "      <td>4.389735e+07</td>\n",
       "      <td>4.389735e+07</td>\n",
       "      <td>4.389735e+07</td>\n",
       "      <td>4.389735e+07</td>\n",
       "    </tr>\n",
       "    <tr>\n",
       "      <th>mean</th>\n",
       "      <td>9.230425e+07</td>\n",
       "      <td>1.972861e+02</td>\n",
       "      <td>-4.339177e-01</td>\n",
       "      <td>-6.256935e-01</td>\n",
       "    </tr>\n",
       "    <tr>\n",
       "      <th>std</th>\n",
       "      <td>4.292906e+11</td>\n",
       "      <td>1.035032e+03</td>\n",
       "      <td>3.136976e+00</td>\n",
       "      <td>2.020825e+00</td>\n",
       "    </tr>\n",
       "    <tr>\n",
       "      <th>min</th>\n",
       "      <td>-4.838107e+06</td>\n",
       "      <td>-1.000000e+00</td>\n",
       "      <td>-3.300000e+00</td>\n",
       "      <td>-1.000000e+00</td>\n",
       "    </tr>\n",
       "    <tr>\n",
       "      <th>25%</th>\n",
       "      <td>-1.000000e+00</td>\n",
       "      <td>-1.000000e+00</td>\n",
       "      <td>-1.000000e+00</td>\n",
       "      <td>-1.000000e+00</td>\n",
       "    </tr>\n",
       "    <tr>\n",
       "      <th>50%</th>\n",
       "      <td>8.000000e+03</td>\n",
       "      <td>-1.000000e+00</td>\n",
       "      <td>-1.000000e+00</td>\n",
       "      <td>-1.000000e+00</td>\n",
       "    </tr>\n",
       "    <tr>\n",
       "      <th>75%</th>\n",
       "      <td>2.642400e+05</td>\n",
       "      <td>-1.000000e+00</td>\n",
       "      <td>-1.000000e+00</td>\n",
       "      <td>-1.000000e+00</td>\n",
       "    </tr>\n",
       "    <tr>\n",
       "      <th>max</th>\n",
       "      <td>2.011201e+15</td>\n",
       "      <td>5.750000e+03</td>\n",
       "      <td>4.400000e+01</td>\n",
       "      <td>2.745594e+01</td>\n",
       "    </tr>\n",
       "  </tbody>\n",
       "</table>\n",
       "</div>"
      ],
      "text/plain": [
       "             Values       surface   Temperature      Distance\n",
       "count  4.389735e+07  4.389735e+07  4.389735e+07  4.389735e+07\n",
       "mean   9.230425e+07  1.972861e+02 -4.339177e-01 -6.256935e-01\n",
       "std    4.292906e+11  1.035032e+03  3.136976e+00  2.020825e+00\n",
       "min   -4.838107e+06 -1.000000e+00 -3.300000e+00 -1.000000e+00\n",
       "25%   -1.000000e+00 -1.000000e+00 -1.000000e+00 -1.000000e+00\n",
       "50%    8.000000e+03 -1.000000e+00 -1.000000e+00 -1.000000e+00\n",
       "75%    2.642400e+05 -1.000000e+00 -1.000000e+00 -1.000000e+00\n",
       "max    2.011201e+15  5.750000e+03  4.400000e+01  2.745594e+01"
      ]
     },
     "execution_count": 5,
     "metadata": {},
     "output_type": "execute_result"
    }
   ],
   "source": [
    "train.describe()"
   ]
  },
  {
   "cell_type": "code",
   "execution_count": 6,
   "metadata": {},
   "outputs": [
    {
     "data": {
      "text/plain": [
       "64"
      ]
     },
     "execution_count": 6,
     "metadata": {},
     "output_type": "execute_result"
    }
   ],
   "source": [
    "sum(train.duplicated())"
   ]
  },
  {
   "cell_type": "code",
   "execution_count": 7,
   "metadata": {},
   "outputs": [],
   "source": [
    "train = train.drop_duplicates()"
   ]
  },
  {
   "cell_type": "code",
   "execution_count": 8,
   "metadata": {},
   "outputs": [
    {
     "data": {
      "image/png": "[encoded data removed]",
      "text/plain": [
       "<matplotlib.figure.Figure at 0x82929b0>"
      ]
     },
     "metadata": {},
     "output_type": "display_data"
    }
   ],
   "source": [
    "sns.countplot(y=\"meter_description\", data=train);"
   ]
  },
  {
   "cell_type": "code",
   "execution_count": 9,
   "metadata": {},
   "outputs": [
    {
     "data": {
      "image/png": "[encoded data removed]",
      "text/plain": [
       "<matplotlib.figure.Figure at 0xefabac8>"
      ]
     },
     "metadata": {},
     "output_type": "display_data"
    }
   ],
   "source": [
    "sns.countplot(x=\"units\", data=train);"
   ]
  },
  {
   "cell_type": "code",
   "execution_count": 10,
   "metadata": {},
   "outputs": [
    {
     "data": {
      "image/png": "[encoded data removed]",
      "text/plain": [
       "<matplotlib.figure.Figure at 0x175749630>"
      ]
     },
     "metadata": {},
     "output_type": "display_data"
    }
   ],
   "source": [
    "sns.countplot(x=\"activity\", data=train);"
   ]
  },
  {
   "cell_type": "code",
   "execution_count": 12,
   "metadata": {},
   "outputs": [
    {
     "data": {
      "image/png": "[encoded data removed]",
      "text/plain": [
       "<matplotlib.figure.Figure at 0x171f43a20>"
      ]
     },
     "metadata": {},
     "output_type": "display_data"
    }
   ],
   "source": [
    "sns.countplot(y='Holiday', data=train[train.Holiday != -1]);"
   ]
  },
  {
   "cell_type": "code",
   "execution_count": null,
   "metadata": {},
   "outputs": [],
   "source": []
  }
 ],
 "metadata": {
  "kernelspec": {
   "display_name": "Python 2",
   "language": "python",
   "name": "python2"
  },
  "language_info": {
   "codemirror_mode": {
    "name": "ipython",
    "version": 2
   },
   "file_extension": ".py",
   "mimetype": "text/x-python",
   "name": "python",
   "nbconvert_exporter": "python",
   "pygments_lexer": "ipython2",
   "version": "2.7.14"
  }
 },
 "nbformat": 4,
 "nbformat_minor": 1
}
