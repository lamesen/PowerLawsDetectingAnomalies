{
 "cells": [
  {
   "cell_type": "markdown",
   "metadata": {
    "collapsed": true
   },
   "source": [
    "# Power Laws: Detecting Anomalies in Usage\n",
    "Energy consumption of buildings has steadily increased. There is an increasing realization that many buildings do not perform as intended by their designers. Typical buildings consume 20% more energy than necessary due to faulty construction, malfunctioning equipment, incorrectly configured control systems and inappropriate operating procedures.\n",
    "\n",
    "The building systems may fail to meet the performance expectations due to various faults. Poorly maintained, degraded, and improperly controlled equipment wastes an estimated 15% to 30% of energy used in commercial buildings.\n",
    "\n",
    "Therefore, it is of great potential to develop automatic, quick-responding, accurate and reliable fault detection and to provide diagnosis schemes to ensure the optimal operations of systems to save energy.\n",
    "\n",
    "Schneider Electric already has relevant offers, but would like to determine if alternative techniques can add new detections / functionalities, bring gain in precision, or operate with less data."
   ]
  },
  {
   "cell_type": "code",
   "execution_count": 1,
   "metadata": {},
   "outputs": [],
   "source": [
    "import pandas as pd\n",
    "import numpy as np\n",
    "import power_utils\n",
    "\n",
    "%matplotlib inline"
   ]
  },
  {
   "cell_type": "code",
   "execution_count": 4,
   "metadata": {},
   "outputs": [],
   "source": [
    "train_loc = r'./tmp/train_prepared.csv'\n",
    "test_loc = r'./input/submission_format.csv'\n",
    "prediction_loc = r'./output/k_means_10_clusters.csv'\n",
    "prediction_colname = 'predict'"
   ]
  },
  {
   "cell_type": "code",
   "execution_count": 5,
   "metadata": {},
   "outputs": [
    {
     "name": "stderr",
     "output_type": "stream",
     "text": [
      "D:\\Users\\Luis\\Programs\\Anaconda3\\envs\\PREDICT-env\\lib\\site-packages\\IPython\\core\\interactiveshell.py:2705: DtypeWarning: Columns (0,3) have mixed types. Specify dtype option on import or set low_memory=False.\n",
      "  interactivity=interactivity, compiler=compiler, result=result)\n"
     ]
    }
   ],
   "source": [
    "train = pd.read_csv(train_loc)\n",
    "predictions = pd.read_csv(prediction_loc)\n",
    "test = pd.read_csv(test_loc)\n",
    "\n",
    "train['predictions'] = predictions[prediction_colname]\n",
    "\n",
    "train_clean = train.drop_duplicates(['timestamp', 'meter_id'])\n",
    "combined = pd.merge(train_clean, test, how='left', left_on=['timestamp', 'meter_id'],\n",
    "                    right_on=['Timestamp', 'meter_id'])"
   ]
  },
  {
   "cell_type": "code",
   "execution_count": 6,
   "metadata": {},
   "outputs": [
    {
     "data": {
      "text/html": [
       "<div>\n",
       "<style scoped>\n",
       "    .dataframe tbody tr th:only-of-type {\n",
       "        vertical-align: middle;\n",
       "    }\n",
       "\n",
       "    .dataframe tbody tr th {\n",
       "        vertical-align: top;\n",
       "    }\n",
       "\n",
       "    .dataframe thead th {\n",
       "        text-align: right;\n",
       "    }\n",
       "</style>\n",
       "<table border=\"1\" class=\"dataframe\">\n",
       "  <thead>\n",
       "    <tr style=\"text-align: right;\">\n",
       "      <th></th>\n",
       "      <th>meter_id</th>\n",
       "      <th>timestamp</th>\n",
       "      <th>values</th>\n",
       "      <th>site_id</th>\n",
       "      <th>meter_description</th>\n",
       "      <th>units</th>\n",
       "      <th>surface</th>\n",
       "      <th>activity</th>\n",
       "      <th>holiday</th>\n",
       "      <th>temperature</th>\n",
       "      <th>...</th>\n",
       "      <th>day</th>\n",
       "      <th>hour</th>\n",
       "      <th>minute</th>\n",
       "      <th>business_hours</th>\n",
       "      <th>evening</th>\n",
       "      <th>overnight</th>\n",
       "      <th>predictions</th>\n",
       "      <th>obs_id_y</th>\n",
       "      <th>Timestamp</th>\n",
       "      <th>is_abnormal</th>\n",
       "    </tr>\n",
       "  </thead>\n",
       "  <tbody>\n",
       "    <tr>\n",
       "      <th>0</th>\n",
       "      <td>2</td>\n",
       "      <td>2015-06-11 00:00:00</td>\n",
       "      <td>2.035</td>\n",
       "      <td>334_61</td>\n",
       "      <td>main meter</td>\n",
       "      <td>kWh</td>\n",
       "      <td>2000.0</td>\n",
       "      <td>office</td>\n",
       "      <td>0.0</td>\n",
       "      <td>20.033333</td>\n",
       "      <td>...</td>\n",
       "      <td>11</td>\n",
       "      <td>0</td>\n",
       "      <td>0</td>\n",
       "      <td>0</td>\n",
       "      <td>1</td>\n",
       "      <td>0</td>\n",
       "      <td>5</td>\n",
       "      <td>NaN</td>\n",
       "      <td>NaN</td>\n",
       "      <td>NaN</td>\n",
       "    </tr>\n",
       "    <tr>\n",
       "      <th>1</th>\n",
       "      <td>2</td>\n",
       "      <td>2015-06-11 00:15:00</td>\n",
       "      <td>2.074</td>\n",
       "      <td>334_61</td>\n",
       "      <td>main meter</td>\n",
       "      <td>kWh</td>\n",
       "      <td>2000.0</td>\n",
       "      <td>office</td>\n",
       "      <td>0.0</td>\n",
       "      <td>NaN</td>\n",
       "      <td>...</td>\n",
       "      <td>11</td>\n",
       "      <td>0</td>\n",
       "      <td>15</td>\n",
       "      <td>0</td>\n",
       "      <td>1</td>\n",
       "      <td>0</td>\n",
       "      <td>5</td>\n",
       "      <td>NaN</td>\n",
       "      <td>NaN</td>\n",
       "      <td>NaN</td>\n",
       "    </tr>\n",
       "    <tr>\n",
       "      <th>2</th>\n",
       "      <td>2</td>\n",
       "      <td>2015-06-11 00:30:00</td>\n",
       "      <td>2.062</td>\n",
       "      <td>334_61</td>\n",
       "      <td>main meter</td>\n",
       "      <td>kWh</td>\n",
       "      <td>2000.0</td>\n",
       "      <td>office</td>\n",
       "      <td>0.0</td>\n",
       "      <td>NaN</td>\n",
       "      <td>...</td>\n",
       "      <td>11</td>\n",
       "      <td>0</td>\n",
       "      <td>30</td>\n",
       "      <td>0</td>\n",
       "      <td>1</td>\n",
       "      <td>0</td>\n",
       "      <td>5</td>\n",
       "      <td>NaN</td>\n",
       "      <td>NaN</td>\n",
       "      <td>NaN</td>\n",
       "    </tr>\n",
       "    <tr>\n",
       "      <th>3</th>\n",
       "      <td>2</td>\n",
       "      <td>2015-06-11 00:45:00</td>\n",
       "      <td>2.025</td>\n",
       "      <td>334_61</td>\n",
       "      <td>main meter</td>\n",
       "      <td>kWh</td>\n",
       "      <td>2000.0</td>\n",
       "      <td>office</td>\n",
       "      <td>0.0</td>\n",
       "      <td>NaN</td>\n",
       "      <td>...</td>\n",
       "      <td>11</td>\n",
       "      <td>0</td>\n",
       "      <td>45</td>\n",
       "      <td>0</td>\n",
       "      <td>1</td>\n",
       "      <td>0</td>\n",
       "      <td>5</td>\n",
       "      <td>NaN</td>\n",
       "      <td>NaN</td>\n",
       "      <td>NaN</td>\n",
       "    </tr>\n",
       "    <tr>\n",
       "      <th>4</th>\n",
       "      <td>2</td>\n",
       "      <td>2015-06-11 01:00:00</td>\n",
       "      <td>2.034</td>\n",
       "      <td>334_61</td>\n",
       "      <td>main meter</td>\n",
       "      <td>kWh</td>\n",
       "      <td>2000.0</td>\n",
       "      <td>office</td>\n",
       "      <td>0.0</td>\n",
       "      <td>NaN</td>\n",
       "      <td>...</td>\n",
       "      <td>11</td>\n",
       "      <td>1</td>\n",
       "      <td>0</td>\n",
       "      <td>0</td>\n",
       "      <td>1</td>\n",
       "      <td>0</td>\n",
       "      <td>5</td>\n",
       "      <td>NaN</td>\n",
       "      <td>NaN</td>\n",
       "      <td>NaN</td>\n",
       "    </tr>\n",
       "  </tbody>\n",
       "</table>\n",
       "<p>5 rows × 32 columns</p>\n",
       "</div>"
      ],
      "text/plain": [
       "  meter_id            timestamp  values site_id meter_description units  \\\n",
       "0        2  2015-06-11 00:00:00   2.035  334_61        main meter   kWh   \n",
       "1        2  2015-06-11 00:15:00   2.074  334_61        main meter   kWh   \n",
       "2        2  2015-06-11 00:30:00   2.062  334_61        main meter   kWh   \n",
       "3        2  2015-06-11 00:45:00   2.025  334_61        main meter   kWh   \n",
       "4        2  2015-06-11 01:00:00   2.034  334_61        main meter   kWh   \n",
       "\n",
       "   surface activity  holiday  temperature     ...       day  hour  minute  \\\n",
       "0   2000.0   office      0.0    20.033333     ...        11     0       0   \n",
       "1   2000.0   office      0.0          NaN     ...        11     0      15   \n",
       "2   2000.0   office      0.0          NaN     ...        11     0      30   \n",
       "3   2000.0   office      0.0          NaN     ...        11     0      45   \n",
       "4   2000.0   office      0.0          NaN     ...        11     1       0   \n",
       "\n",
       "   business_hours  evening  overnight  predictions  obs_id_y  Timestamp  \\\n",
       "0               0        1          0            5       NaN        NaN   \n",
       "1               0        1          0            5       NaN        NaN   \n",
       "2               0        1          0            5       NaN        NaN   \n",
       "3               0        1          0            5       NaN        NaN   \n",
       "4               0        1          0            5       NaN        NaN   \n",
       "\n",
       "   is_abnormal  \n",
       "0          NaN  \n",
       "1          NaN  \n",
       "2          NaN  \n",
       "3          NaN  \n",
       "4          NaN  \n",
       "\n",
       "[5 rows x 32 columns]"
      ]
     },
     "execution_count": 6,
     "metadata": {},
     "output_type": "execute_result"
    }
   ],
   "source": [
    "combined.head()"
   ]
  },
  {
   "cell_type": "code",
   "execution_count": 9,
   "metadata": {},
   "outputs": [
    {
     "data": {
      "text/plain": [
       "meter_id                       object\n",
       "timestamp                      object\n",
       "values                        float64\n",
       "site_id                        object\n",
       "meter_description              object\n",
       "units                          object\n",
       "surface                       float64\n",
       "activity                       object\n",
       "holiday                       float64\n",
       "temperature                   float64\n",
       "distance                      float64\n",
       "obs_id_x                        int64\n",
       "values_business_day_lag_1     float64\n",
       "values_day_lag_1              float64\n",
       "values_day_lag_7              float64\n",
       "values_business_day_diff_1    float64\n",
       "values_day_diff_1             float64\n",
       "values_day_diff_7             float64\n",
       "dow                             int64\n",
       "wom                             int64\n",
       "year                            int64\n",
       "month                           int64\n",
       "day                             int64\n",
       "hour                            int64\n",
       "minute                          int64\n",
       "business_hours                  int64\n",
       "evening                         int64\n",
       "overnight                       int64\n",
       "predictions                     int64\n",
       "obs_id_y                      float64\n",
       "Timestamp                      object\n",
       "is_abnormal                    object\n",
       "dtype: object"
      ]
     },
     "execution_count": 9,
     "metadata": {},
     "output_type": "execute_result"
    }
   ],
   "source": [
    "combined.dtypes"
   ]
  },
  {
   "cell_type": "code",
   "execution_count": 7,
   "metadata": {},
   "outputs": [],
   "source": [
    "import seaborn as sns"
   ]
  },
  {
   "cell_type": "code",
   "execution_count": 8,
   "metadata": {},
   "outputs": [
    {
     "data": {
      "text/plain": [
       "<matplotlib.axes._subplots.AxesSubplot at 0x1d3c4282ef0>"
      ]
     },
     "execution_count": 8,
     "metadata": {},
     "output_type": "execute_result"
    },
    {
     "data": {
      "image/png": "[encoded data removed]",
      "text/plain": [
       "<matplotlib.figure.Figure at 0x1d3c4249d30>"
      ]
     },
     "metadata": {},
     "output_type": "display_data"
    }
   ],
   "source": [
    "sns.boxplot(x=\"predictions\", y=\"values\", data=combined);"
   ]
  },
  {
   "cell_type": "code",
   "execution_count": 15,
   "metadata": {},
   "outputs": [
    {
     "data": {
      "image/png": "[encoded data removed]",
      "text/plain": [
       "<matplotlib.figure.Figure at 0x1d3fb391470>"
      ]
     },
     "metadata": {},
     "output_type": "display_data"
    }
   ],
   "source": [
    "import matplotlib.pyplot as plt\n",
    "sns.boxplot(x=\"predictions\", y=\"values_day_diff_7\", data=combined)\n",
    "plt.ylim(-100, 100);"
   ]
  },
  {
   "cell_type": "code",
   "execution_count": 16,
   "metadata": {},
   "outputs": [],
   "source": [
    "combined.to_csv('./tmp/clusters.csv')"
   ]
  },
  {
   "cell_type": "code",
   "execution_count": 17,
   "metadata": {},
   "outputs": [],
   "source": [
    "test_final = combined.dropna(subset=['is_abnormal'])"
   ]
  },
  {
   "cell_type": "code",
   "execution_count": 24,
   "metadata": {},
   "outputs": [
    {
     "name": "stderr",
     "output_type": "stream",
     "text": [
      "D:\\Users\\Luis\\Programs\\Anaconda3\\envs\\PREDICT-env\\lib\\site-packages\\ipykernel_launcher.py:2: SettingWithCopyWarning: \n",
      "A value is trying to be set on a copy of a slice from a DataFrame.\n",
      "Try using .loc[row_indexer,col_indexer] = value instead\n",
      "\n",
      "See the caveats in the documentation: http://pandas.pydata.org/pandas-docs/stable/indexing.html#indexing-view-versus-copy\n",
      "  \n"
     ]
    }
   ],
   "source": [
    "test_final['is_abnormal'] = test_final.apply(lambda r: r['predictions'] == 0 or\n",
    "                                             r['predictions'] == 7 or r['predictions'] == 9, axis=1)"
   ]
  },
  {
   "cell_type": "code",
   "execution_count": 25,
   "metadata": {},
   "outputs": [
    {
     "data": {
      "text/plain": [
       "False    320469\n",
       "True      82166\n",
       "Name: is_abnormal, dtype: int64"
      ]
     },
     "execution_count": 25,
     "metadata": {},
     "output_type": "execute_result"
    }
   ],
   "source": [
    "test_final['is_abnormal'].value_counts()"
   ]
  },
  {
   "cell_type": "code",
   "execution_count": 26,
   "metadata": {},
   "outputs": [
    {
     "name": "stderr",
     "output_type": "stream",
     "text": [
      "D:\\Users\\Luis\\Programs\\Anaconda3\\envs\\PREDICT-env\\lib\\site-packages\\ipykernel_launcher.py:4: SettingWithCopyWarning: \n",
      "A value is trying to be set on a copy of a slice from a DataFrame.\n",
      "Try using .loc[row_indexer,col_indexer] = value instead\n",
      "\n",
      "See the caveats in the documentation: http://pandas.pydata.org/pandas-docs/stable/indexing.html#indexing-view-versus-copy\n",
      "  after removing the cwd from sys.path.\n"
     ]
    }
   ],
   "source": [
    "from datetime import datetime\n",
    "test_scored = test_final[['obs_id_y', 'meter_id', 'Timestamp', 'is_abnormal']]\n",
    "test_scored.columns = ['obs_id', 'meter_id', 'Timestamp', 'is_abnormal']\n",
    "test_scored['obs_id'] = test_scored.loc[:, 'obs_id'].astype(int)\n",
    "now = datetime.now()\n",
    "output_note = 'kmeans_10'\n",
    "test_scored.to_csv('./output/test_scored_{}_{}.csv'.format(now.strftime(\"%y%m%d%H%M%S\"), output_note),\n",
    "                   index=False)"
   ]
  },
  {
   "cell_type": "code",
   "execution_count": null,
   "metadata": {},
   "outputs": [],
   "source": []
  }
 ],
 "metadata": {
  "kernelspec": {
   "display_name": "Python 2",
   "language": "python",
   "name": "python2"
  },
  "language_info": {
   "codemirror_mode": {
    "name": "ipython",
    "version": 2
   },
   "file_extension": ".py",
   "mimetype": "text/x-python",
   "name": "python",
   "nbconvert_exporter": "python",
   "pygments_lexer": "ipython2",
   "version": "2.7.14"
  }
 },
 "nbformat": 4,
 "nbformat_minor": 1
}
