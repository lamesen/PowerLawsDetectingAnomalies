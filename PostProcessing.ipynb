{
 "cells": [
  {
   "cell_type": "markdown",
   "metadata": {
    "collapsed": true
   },
   "source": [
    "# Power Laws: Detecting Anomalies in Usage\n",
    "Energy consumption of buildings has steadily increased. There is an increasing realization that many buildings do not perform as intended by their designers. Typical buildings consume 20% more energy than necessary due to faulty construction, malfunctioning equipment, incorrectly configured control systems and inappropriate operating procedures.\n",
    "\n",
    "The building systems may fail to meet the performance expectations due to various faults. Poorly maintained, degraded, and improperly controlled equipment wastes an estimated 15% to 30% of energy used in commercial buildings.\n",
    "\n",
    "Therefore, it is of great potential to develop automatic, quick-responding, accurate and reliable fault detection and to provide diagnosis schemes to ensure the optimal operations of systems to save energy.\n",
    "\n",
    "Schneider Electric already has relevant offers, but would like to determine if alternative techniques can add new detections / functionalities, bring gain in precision, or operate with less data."
   ]
  },
  {
   "cell_type": "markdown",
   "metadata": {},
   "source": [
    "https://search.library.northwestern.edu/primo-explore/fulldisplay?docid=01NWU_HATHI_TRUSTMIU01-100664356&context=L&vid=NULVNEW&search_scope=NWU&tab=default_tab&lang=en_US"
   ]
  },
  {
   "cell_type": "code",
   "execution_count": 1,
   "metadata": {
    "collapsed": true
   },
   "outputs": [],
   "source": [
    "import pandas as pd\n",
    "import numpy as np\n",
    "import power_utils\n",
    "\n",
    "%matplotlib inline"
   ]
  },
  {
   "cell_type": "code",
   "execution_count": 2,
   "metadata": {},
   "outputs": [
    {
     "name": "stderr",
     "output_type": "stream",
     "text": [
      "D:\\Anaconda3\\envs\\Automation-env\\lib\\site-packages\\IPython\\core\\interactiveshell.py:2698: DtypeWarning: Columns (1,4) have mixed types. Specify dtype option on import or set low_memory=False.\n",
      "  interactivity=interactivity, compiler=compiler, result=result)\n"
     ]
    }
   ],
   "source": [
    "train = pd.read_csv('./tmp/train_prepared.csv')"
   ]
  },
  {
   "cell_type": "code",
   "execution_count": 3,
   "metadata": {
    "collapsed": true
   },
   "outputs": [],
   "source": [
    "predictions = pd.read_csv('./output/Power_Laws_Diff_Gradient_Boosted_Trees_Regressor_(Least-Squares_Lo_(23)_0_subset_train_prepared.csv')"
   ]
  },
  {
   "cell_type": "code",
   "execution_count": 4,
   "metadata": {
    "collapsed": true
   },
   "outputs": [],
   "source": [
    "test = pd.read_csv('./input/submission_format.csv')"
   ]
  },
  {
   "cell_type": "code",
   "execution_count": 5,
   "metadata": {
    "collapsed": true
   },
   "outputs": [],
   "source": [
    "train['diff_preds_gbm'] = predictions['Prediction']"
   ]
  },
  {
   "cell_type": "code",
   "execution_count": 6,
   "metadata": {
    "collapsed": true
   },
   "outputs": [],
   "source": [
    "predictions = pd.read_csv('./output/Power_Laws_eXtreme_Gradient_Boosted_Trees_Regressor_with_Earl_(52)_0_Feature_Subset_train_prepared.csv')"
   ]
  },
  {
   "cell_type": "code",
   "execution_count": 7,
   "metadata": {
    "collapsed": true
   },
   "outputs": [],
   "source": [
    "train['value_preds_gbm'] = predictions['Prediction']"
   ]
  },
  {
   "cell_type": "code",
   "execution_count": 8,
   "metadata": {
    "collapsed": true
   },
   "outputs": [],
   "source": [
    "predictions = pd.read_csv('./output/Power_Laws_Diff_eXtreme_Gradient_Boosted_Trees_Regressor_with_Earl_(4)_0_subset_train_prepared.csv')"
   ]
  },
  {
   "cell_type": "code",
   "execution_count": 9,
   "metadata": {
    "collapsed": true
   },
   "outputs": [],
   "source": [
    "train['diff_preds_xgb'] = predictions['Prediction']"
   ]
  },
  {
   "cell_type": "code",
   "execution_count": 10,
   "metadata": {
    "collapsed": true
   },
   "outputs": [],
   "source": [
    "train_clean = train.drop_duplicates(['timestamp', 'meter_id'])"
   ]
  },
  {
   "cell_type": "code",
   "execution_count": 11,
   "metadata": {
    "collapsed": true
   },
   "outputs": [],
   "source": [
    "combined = pd.merge(train_clean, test, how='left', left_on=['timestamp', 'meter_id'], right_on=['Timestamp', 'meter_id'])"
   ]
  },
  {
   "cell_type": "code",
   "execution_count": 12,
   "metadata": {},
   "outputs": [
    {
     "data": {
      "text/plain": [
       "False    402635\n",
       "Name: is_abnormal, dtype: int64"
      ]
     },
     "execution_count": 12,
     "metadata": {},
     "output_type": "execute_result"
    }
   ],
   "source": [
    "combined['is_abnormal'].value_counts()"
   ]
  },
  {
   "cell_type": "code",
   "execution_count": 13,
   "metadata": {},
   "outputs": [
    {
     "data": {
      "text/plain": [
       "(402635, 4)"
      ]
     },
     "execution_count": 13,
     "metadata": {},
     "output_type": "execute_result"
    }
   ],
   "source": [
    "test.shape"
   ]
  },
  {
   "cell_type": "code",
   "execution_count": 14,
   "metadata": {
    "collapsed": true
   },
   "outputs": [],
   "source": [
    "def absolute_difference(obs_val, pred_val):\n",
    "    return np.absolute(pred_val - obs_val)"
   ]
  },
  {
   "cell_type": "code",
   "execution_count": 15,
   "metadata": {},
   "outputs": [
    {
     "data": {
      "text/plain": [
       "count    5.950460e+05\n",
       "mean     1.000000e+00\n",
       "std      1.947059e+00\n",
       "min      3.062411e-07\n",
       "25%      4.372594e-02\n",
       "50%      4.193790e-01\n",
       "75%      1.210941e+00\n",
       "max      9.555418e+01\n",
       "Name: anomaly_1, dtype: float64"
      ]
     },
     "execution_count": 15,
     "metadata": {},
     "output_type": "execute_result"
    }
   ],
   "source": [
    "combined['abs_1'] = combined.apply(lambda r: absolute_difference(r['values'], r['value_preds_gbm']), axis=1)\n",
    "combined = pd.merge(combined, combined.groupby('meter_id')['abs_1'].mean().reset_index(name='average_abs_1'), how='left', on='meter_id')\n",
    "combined['anomaly_1'] = combined['abs_1']/combined['average_abs_1']\n",
    "combined['anomaly_1'].describe()"
   ]
  },
  {
   "cell_type": "code",
   "execution_count": 16,
   "metadata": {},
   "outputs": [
    {
     "data": {
      "text/plain": [
       "count    587873.000000\n",
       "mean          1.000000\n",
       "std           0.952379\n",
       "min           0.000008\n",
       "25%           0.423958\n",
       "50%           0.780054\n",
       "75%           1.341621\n",
       "max          14.965550\n",
       "Name: anomaly_2, dtype: float64"
      ]
     },
     "execution_count": 16,
     "metadata": {},
     "output_type": "execute_result"
    }
   ],
   "source": [
    "combined['abs_2'] = combined.apply(lambda r: absolute_difference(r['values_day_diff_7'], r['diff_preds_gbm']), axis=1)\n",
    "combined = pd.merge(combined, combined.groupby('meter_id')['abs_2'].mean().reset_index(name='average_abs_2'), how='left', on='meter_id')\n",
    "combined['anomaly_2'] = combined['abs_2']/combined['average_abs_2']\n",
    "combined['anomaly_2'].describe()"
   ]
  },
  {
   "cell_type": "code",
   "execution_count": 17,
   "metadata": {},
   "outputs": [
    {
     "data": {
      "text/plain": [
       "count    587873.000000\n",
       "mean          1.000000\n",
       "std           1.316315\n",
       "min           0.000001\n",
       "25%           0.376622\n",
       "50%           0.741264\n",
       "75%           1.213058\n",
       "max         133.363931\n",
       "Name: anomaly_3, dtype: float64"
      ]
     },
     "execution_count": 17,
     "metadata": {},
     "output_type": "execute_result"
    }
   ],
   "source": [
    "combined['abs_3'] = combined.apply(lambda r: absolute_difference(r['values_day_diff_7'], r['diff_preds_xgb']), axis=1)\n",
    "combined = pd.merge(combined, combined.groupby('meter_id')['abs_3'].mean().reset_index(name='average_abs_3'), how='left', on='meter_id')\n",
    "combined['anomaly_3'] = combined['abs_3']/combined['average_abs_3']\n",
    "combined['anomaly_3'].describe()"
   ]
  },
  {
   "cell_type": "code",
   "execution_count": 18,
   "metadata": {
    "collapsed": true
   },
   "outputs": [],
   "source": [
    "anomaly_1_cutoff = combined['anomaly_1'].quantile(q=0.8)\n",
    "anomaly_2_cutoff = combined['anomaly_2'].quantile(q=0.8)\n",
    "anomaly_3_cutoff = combined['anomaly_3'].quantile(q=0.8)"
   ]
  },
  {
   "cell_type": "code",
   "execution_count": 19,
   "metadata": {
    "collapsed": true
   },
   "outputs": [],
   "source": [
    "test_final = combined.dropna(subset=['is_abnormal'])"
   ]
  },
  {
   "cell_type": "code",
   "execution_count": 20,
   "metadata": {},
   "outputs": [
    {
     "data": {
      "text/html": [
       "<div>\n",
       "<table border=\"1\" class=\"dataframe\">\n",
       "  <thead>\n",
       "    <tr style=\"text-align: right;\">\n",
       "      <th></th>\n",
       "      <th>obs_id_x</th>\n",
       "      <th>meter_id</th>\n",
       "      <th>timestamp</th>\n",
       "      <th>values</th>\n",
       "      <th>site_id</th>\n",
       "      <th>meter_description</th>\n",
       "      <th>units</th>\n",
       "      <th>surface</th>\n",
       "      <th>activity</th>\n",
       "      <th>holiday</th>\n",
       "      <th>...</th>\n",
       "      <th>is_abnormal</th>\n",
       "      <th>abs_1</th>\n",
       "      <th>average_abs_1</th>\n",
       "      <th>anomaly_1</th>\n",
       "      <th>abs_2</th>\n",
       "      <th>average_abs_2</th>\n",
       "      <th>anomaly_2</th>\n",
       "      <th>abs_3</th>\n",
       "      <th>average_abs_3</th>\n",
       "      <th>anomaly_3</th>\n",
       "    </tr>\n",
       "  </thead>\n",
       "  <tbody>\n",
       "    <tr>\n",
       "      <th>75014</th>\n",
       "      <td>1249814</td>\n",
       "      <td>234_203</td>\n",
       "      <td>2013-11-03 19:00:00</td>\n",
       "      <td>11.636</td>\n",
       "      <td>234_203</td>\n",
       "      <td>virtual main</td>\n",
       "      <td>kWh</td>\n",
       "      <td>5750.0</td>\n",
       "      <td>office</td>\n",
       "      <td>0</td>\n",
       "      <td>...</td>\n",
       "      <td>False</td>\n",
       "      <td>1160.204698</td>\n",
       "      <td>1141.564967</td>\n",
       "      <td>1.016328</td>\n",
       "      <td>NaN</td>\n",
       "      <td>1009.332595</td>\n",
       "      <td>NaN</td>\n",
       "      <td>NaN</td>\n",
       "      <td>2.643253</td>\n",
       "      <td>NaN</td>\n",
       "    </tr>\n",
       "    <tr>\n",
       "      <th>75015</th>\n",
       "      <td>1249815</td>\n",
       "      <td>234_203</td>\n",
       "      <td>2013-11-03 19:30:00</td>\n",
       "      <td>11.106</td>\n",
       "      <td>234_203</td>\n",
       "      <td>virtual main</td>\n",
       "      <td>kWh</td>\n",
       "      <td>5750.0</td>\n",
       "      <td>office</td>\n",
       "      <td>0</td>\n",
       "      <td>...</td>\n",
       "      <td>False</td>\n",
       "      <td>1266.852862</td>\n",
       "      <td>1141.564967</td>\n",
       "      <td>1.109751</td>\n",
       "      <td>NaN</td>\n",
       "      <td>1009.332595</td>\n",
       "      <td>NaN</td>\n",
       "      <td>NaN</td>\n",
       "      <td>2.643253</td>\n",
       "      <td>NaN</td>\n",
       "    </tr>\n",
       "    <tr>\n",
       "      <th>75016</th>\n",
       "      <td>1249816</td>\n",
       "      <td>234_203</td>\n",
       "      <td>2013-11-03 20:00:00</td>\n",
       "      <td>10.957</td>\n",
       "      <td>234_203</td>\n",
       "      <td>virtual main</td>\n",
       "      <td>kWh</td>\n",
       "      <td>5750.0</td>\n",
       "      <td>office</td>\n",
       "      <td>0</td>\n",
       "      <td>...</td>\n",
       "      <td>False</td>\n",
       "      <td>1267.001862</td>\n",
       "      <td>1141.564967</td>\n",
       "      <td>1.109882</td>\n",
       "      <td>NaN</td>\n",
       "      <td>1009.332595</td>\n",
       "      <td>NaN</td>\n",
       "      <td>NaN</td>\n",
       "      <td>2.643253</td>\n",
       "      <td>NaN</td>\n",
       "    </tr>\n",
       "    <tr>\n",
       "      <th>75017</th>\n",
       "      <td>1249817</td>\n",
       "      <td>234_203</td>\n",
       "      <td>2013-11-03 20:30:00</td>\n",
       "      <td>11.157</td>\n",
       "      <td>234_203</td>\n",
       "      <td>virtual main</td>\n",
       "      <td>kWh</td>\n",
       "      <td>5750.0</td>\n",
       "      <td>office</td>\n",
       "      <td>0</td>\n",
       "      <td>...</td>\n",
       "      <td>False</td>\n",
       "      <td>1383.265974</td>\n",
       "      <td>1141.564967</td>\n",
       "      <td>1.211728</td>\n",
       "      <td>NaN</td>\n",
       "      <td>1009.332595</td>\n",
       "      <td>NaN</td>\n",
       "      <td>NaN</td>\n",
       "      <td>2.643253</td>\n",
       "      <td>NaN</td>\n",
       "    </tr>\n",
       "    <tr>\n",
       "      <th>75018</th>\n",
       "      <td>1249818</td>\n",
       "      <td>234_203</td>\n",
       "      <td>2013-11-03 21:00:00</td>\n",
       "      <td>12.196</td>\n",
       "      <td>234_203</td>\n",
       "      <td>virtual main</td>\n",
       "      <td>kWh</td>\n",
       "      <td>5750.0</td>\n",
       "      <td>office</td>\n",
       "      <td>0</td>\n",
       "      <td>...</td>\n",
       "      <td>False</td>\n",
       "      <td>1382.226974</td>\n",
       "      <td>1141.564967</td>\n",
       "      <td>1.210818</td>\n",
       "      <td>NaN</td>\n",
       "      <td>1009.332595</td>\n",
       "      <td>NaN</td>\n",
       "      <td>NaN</td>\n",
       "      <td>2.643253</td>\n",
       "      <td>NaN</td>\n",
       "    </tr>\n",
       "  </tbody>\n",
       "</table>\n",
       "<p>5 rows × 43 columns</p>\n",
       "</div>"
      ],
      "text/plain": [
       "       obs_id_x meter_id            timestamp  values  site_id  \\\n",
       "75014   1249814  234_203  2013-11-03 19:00:00  11.636  234_203   \n",
       "75015   1249815  234_203  2013-11-03 19:30:00  11.106  234_203   \n",
       "75016   1249816  234_203  2013-11-03 20:00:00  10.957  234_203   \n",
       "75017   1249817  234_203  2013-11-03 20:30:00  11.157  234_203   \n",
       "75018   1249818  234_203  2013-11-03 21:00:00  12.196  234_203   \n",
       "\n",
       "      meter_description units  surface activity  holiday    ...      \\\n",
       "75014      virtual main   kWh   5750.0   office        0    ...       \n",
       "75015      virtual main   kWh   5750.0   office        0    ...       \n",
       "75016      virtual main   kWh   5750.0   office        0    ...       \n",
       "75017      virtual main   kWh   5750.0   office        0    ...       \n",
       "75018      virtual main   kWh   5750.0   office        0    ...       \n",
       "\n",
       "       is_abnormal        abs_1  average_abs_1  anomaly_1  abs_2  \\\n",
       "75014        False  1160.204698    1141.564967   1.016328    NaN   \n",
       "75015        False  1266.852862    1141.564967   1.109751    NaN   \n",
       "75016        False  1267.001862    1141.564967   1.109882    NaN   \n",
       "75017        False  1383.265974    1141.564967   1.211728    NaN   \n",
       "75018        False  1382.226974    1141.564967   1.210818    NaN   \n",
       "\n",
       "       average_abs_2  anomaly_2  abs_3  average_abs_3  anomaly_3  \n",
       "75014    1009.332595        NaN    NaN       2.643253        NaN  \n",
       "75015    1009.332595        NaN    NaN       2.643253        NaN  \n",
       "75016    1009.332595        NaN    NaN       2.643253        NaN  \n",
       "75017    1009.332595        NaN    NaN       2.643253        NaN  \n",
       "75018    1009.332595        NaN    NaN       2.643253        NaN  \n",
       "\n",
       "[5 rows x 43 columns]"
      ]
     },
     "execution_count": 20,
     "metadata": {},
     "output_type": "execute_result"
    }
   ],
   "source": [
    "test_final.head()"
   ]
  },
  {
   "cell_type": "code",
   "execution_count": 21,
   "metadata": {},
   "outputs": [
    {
     "name": "stderr",
     "output_type": "stream",
     "text": [
      "D:\\Anaconda3\\envs\\Automation-env\\lib\\site-packages\\ipykernel_launcher.py:1: SettingWithCopyWarning: \n",
      "A value is trying to be set on a copy of a slice from a DataFrame.\n",
      "Try using .loc[row_indexer,col_indexer] = value instead\n",
      "\n",
      "See the caveats in the documentation: http://pandas.pydata.org/pandas-docs/stable/indexing.html#indexing-view-versus-copy\n",
      "  \"\"\"Entry point for launching an IPython kernel.\n",
      "D:\\Anaconda3\\envs\\Automation-env\\lib\\site-packages\\ipykernel_launcher.py:2: SettingWithCopyWarning: \n",
      "A value is trying to be set on a copy of a slice from a DataFrame.\n",
      "Try using .loc[row_indexer,col_indexer] = value instead\n",
      "\n",
      "See the caveats in the documentation: http://pandas.pydata.org/pandas-docs/stable/indexing.html#indexing-view-versus-copy\n",
      "  \n",
      "D:\\Anaconda3\\envs\\Automation-env\\lib\\site-packages\\ipykernel_launcher.py:3: SettingWithCopyWarning: \n",
      "A value is trying to be set on a copy of a slice from a DataFrame.\n",
      "Try using .loc[row_indexer,col_indexer] = value instead\n",
      "\n",
      "See the caveats in the documentation: http://pandas.pydata.org/pandas-docs/stable/indexing.html#indexing-view-versus-copy\n",
      "  This is separate from the ipykernel package so we can avoid doing imports until\n"
     ]
    }
   ],
   "source": [
    "test_final['is_abnormal_1'] = test_final.apply(lambda r: True if r['anomaly_1'] > anomaly_1_cutoff else False, axis=1)\n",
    "test_final['is_abnormal_2'] = test_final.apply(lambda r: True if r['anomaly_2'] > anomaly_2_cutoff else False, axis=1)\n",
    "test_final['is_abnormal_3'] = test_final.apply(lambda r: True if r['anomaly_3'] > anomaly_3_cutoff else False, axis=1)"
   ]
  },
  {
   "cell_type": "code",
   "execution_count": 22,
   "metadata": {},
   "outputs": [
    {
     "data": {
      "text/plain": [
       "obs_id_x                        int64\n",
       "meter_id                       object\n",
       "timestamp                      object\n",
       "values                        float64\n",
       "site_id                        object\n",
       "meter_description              object\n",
       "units                          object\n",
       "surface                       float64\n",
       "activity                       object\n",
       "holiday                         int64\n",
       "temperature                   float64\n",
       "distance                      float64\n",
       "values_business_day_lag_1     float64\n",
       "values_day_lag_1              float64\n",
       "values_day_lag_7              float64\n",
       "values_business_day_diff_1    float64\n",
       "values_day_diff_1             float64\n",
       "values_day_diff_7             float64\n",
       "dow                             int64\n",
       "wom                             int64\n",
       "year                            int64\n",
       "month                           int64\n",
       "day                             int64\n",
       "hour                            int64\n",
       "minute                          int64\n",
       "business_hours                  int64\n",
       "evening                         int64\n",
       "overnight                       int64\n",
       "diff_preds_gbm                float64\n",
       "value_preds_gbm               float64\n",
       "diff_preds_xgb                float64\n",
       "obs_id_y                      float64\n",
       "Timestamp                      object\n",
       "is_abnormal                    object\n",
       "abs_1                         float64\n",
       "average_abs_1                 float64\n",
       "anomaly_1                     float64\n",
       "abs_2                         float64\n",
       "average_abs_2                 float64\n",
       "anomaly_2                     float64\n",
       "abs_3                         float64\n",
       "average_abs_3                 float64\n",
       "anomaly_3                     float64\n",
       "is_abnormal_1                    bool\n",
       "is_abnormal_2                    bool\n",
       "is_abnormal_3                    bool\n",
       "dtype: object"
      ]
     },
     "execution_count": 22,
     "metadata": {},
     "output_type": "execute_result"
    }
   ],
   "source": [
    "test_final.dtypes"
   ]
  },
  {
   "cell_type": "code",
   "execution_count": 23,
   "metadata": {},
   "outputs": [
    {
     "data": {
      "text/plain": [
       "False    330437\n",
       "True      72198\n",
       "Name: is_abnormal_1, dtype: int64"
      ]
     },
     "execution_count": 23,
     "metadata": {},
     "output_type": "execute_result"
    }
   ],
   "source": [
    "test_final.is_abnormal_1.value_counts()"
   ]
  },
  {
   "cell_type": "code",
   "execution_count": 24,
   "metadata": {
    "collapsed": true
   },
   "outputs": [],
   "source": [
    "test_scored = test_final[['obs_id_y', 'meter_id', 'Timestamp', 'is_abnormal_1']]"
   ]
  },
  {
   "cell_type": "code",
   "execution_count": 25,
   "metadata": {
    "collapsed": true
   },
   "outputs": [],
   "source": [
    "test_scored.columns = ['obs_id', 'meter_id', 'Timestamp', 'is_abnormal']"
   ]
  },
  {
   "cell_type": "code",
   "execution_count": 26,
   "metadata": {
    "collapsed": true
   },
   "outputs": [],
   "source": [
    "test_scored.to_csv('./output/test_scored1.csv', index=False)"
   ]
  },
  {
   "cell_type": "code",
   "execution_count": 27,
   "metadata": {
    "collapsed": true
   },
   "outputs": [],
   "source": [
    "test_scored = test_final[['obs_id_y', 'meter_id', 'Timestamp', 'is_abnormal_2']]\n",
    "test_scored.columns = ['obs_id', 'meter_id', 'Timestamp', 'is_abnormal']\n",
    "test_scored.to_csv('./output/test_scored2.csv', index=False)"
   ]
  },
  {
   "cell_type": "code",
   "execution_count": 28,
   "metadata": {
    "collapsed": true
   },
   "outputs": [],
   "source": [
    "import seaborn as sns"
   ]
  },
  {
   "cell_type": "code",
   "execution_count": 32,
   "metadata": {},
   "outputs": [
    {
     "data": {
      "image/png": "[encoded data removed]",
      "text/plain": [
       "<matplotlib.figure.Figure at 0xf38122f048>"
      ]
     },
     "metadata": {},
     "output_type": "display_data"
    }
   ],
   "source": [
    "ax = sns.distplot(test_final['anomaly_1']);"
   ]
  },
  {
   "cell_type": "code",
   "execution_count": 34,
   "metadata": {},
   "outputs": [
    {
     "data": {
      "image/png": "[encoded data removed]",
      "text/plain": [
       "<matplotlib.figure.Figure at 0xf388f56898>"
      ]
     },
     "metadata": {},
     "output_type": "display_data"
    }
   ],
   "source": [
    "ax = sns.boxplot(x=test_final['anomaly_1']);"
   ]
  },
  {
   "cell_type": "code",
   "execution_count": 35,
   "metadata": {},
   "outputs": [
    {
     "data": {
      "image/png": "[encoded data removed]",
      "text/plain": [
       "<matplotlib.figure.Figure at 0xf3890177b8>"
      ]
     },
     "metadata": {},
     "output_type": "display_data"
    }
   ],
   "source": [
    "ax = sns.boxplot(x=test_final['anomaly_2']);"
   ]
  },
  {
   "cell_type": "code",
   "execution_count": 36,
   "metadata": {},
   "outputs": [
    {
     "data": {
      "image/png": "[encoded data removed]",
      "text/plain": [
       "<matplotlib.figure.Figure at 0xf38effe160>"
      ]
     },
     "metadata": {},
     "output_type": "display_data"
    }
   ],
   "source": [
    "ax = sns.boxplot(x=test_final['anomaly_3']);"
   ]
  },
  {
   "cell_type": "code",
   "execution_count": 37,
   "metadata": {},
   "outputs": [
    {
     "data": {
      "text/plain": [
       "1.5592216386294724"
      ]
     },
     "execution_count": 37,
     "metadata": {},
     "output_type": "execute_result"
    }
   ],
   "source": [
    "anomaly_2_80"
   ]
  },
  {
   "cell_type": "code",
   "execution_count": null,
   "metadata": {
    "collapsed": true
   },
   "outputs": [],
   "source": []
  }
 ],
 "metadata": {
  "kernelspec": {
   "display_name": "Python 3",
   "language": "python",
   "name": "python3"
  },
  "language_info": {
   "codemirror_mode": {
    "name": "ipython",
    "version": 3
   },
   "file_extension": ".py",
   "mimetype": "text/x-python",
   "name": "python",
   "nbconvert_exporter": "python",
   "pygments_lexer": "ipython3",
   "version": "3.6.0"
  }
 },
 "nbformat": 4,
 "nbformat_minor": 1
}
